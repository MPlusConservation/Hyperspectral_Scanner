{
 "cells": [
  {
   "cell_type": "code",
   "execution_count": 5,
   "id": "38186744",
   "metadata": {},
   "outputs": [],
   "source": [
    "from skimage import data\n",
    "import time\n",
    "import numpy as np\n",
    "import napari\n",
    "from PIL import Image, ImageOps\n",
    "from napari.qt import thread_worker\n",
    "from qtpy.QtCore import Qt\n",
    "from qtpy.QtWidgets import QPushButton"
   ]
  },
  {
   "cell_type": "code",
   "execution_count": 6,
   "id": "1aa2ffb8",
   "metadata": {},
   "outputs": [],
   "source": [
    "tsr = Image.open(\"/Users/homelyp/Desktop/ghos.tif\") "
   ]
  },
  {
   "cell_type": "code",
   "execution_count": 7,
   "id": "4dfce768",
   "metadata": {},
   "outputs": [],
   "source": [
    "width, height = tsr.size #X and Y image dimensions\n",
    "#chose desired image width, for example, a width of 200 should be used if you have a slow machine\n",
    "X_dim = width #chose \"width\" if you want to use the whole image\n",
    "Y_dim = int(height*(X_dim/width)) #maintain aspect ration as original image\n",
    "\n",
    "#get the data into a numpy array\n",
    "images = []\n",
    "for i in range(tsr.n_frames):\n",
    "    tsr.seek(i)\n",
    "    images.append(np.array(ImageOps.fit(tsr, (X_dim,Y_dim)),dtype=np.float32 )/ 255 ) #ImageOps changes image size "
   ]
  },
  {
   "cell_type": "code",
   "execution_count": 149,
   "id": "179dd71d",
   "metadata": {},
   "outputs": [
    {
     "data": {
      "text/plain": [
       "(493, 240, 676)"
      ]
     },
     "execution_count": 149,
     "metadata": {},
     "output_type": "execute_result"
    }
   ],
   "source": [
    "#shape of array after capture\n",
    "# scan number is dimension 0\n",
    "# wavelength dimension is dimension 1\n",
    "# spatial dimension in dimension 2\n",
    "\n",
    "\n",
    "np.shape(images)"
   ]
  },
  {
   "cell_type": "code",
   "execution_count": 151,
   "id": "29c80df6",
   "metadata": {},
   "outputs": [
    {
     "data": {
      "text/plain": [
       "(240, 493, 676)"
      ]
     },
     "execution_count": 151,
     "metadata": {},
     "output_type": "execute_result"
    }
   ],
   "source": [
    "#Transpose dimensions of a numpy array\n",
    "#such that wavelength is dimension 0,\n",
    "#scan number is dimension 1, and\n",
    "#spatial dimension is 2\n",
    "\n",
    "wave_first = np.transpose(images, (1, 0, 2)) \n",
    "np.shape(wave_first)"
   ]
  },
  {
   "cell_type": "code",
   "execution_count": 193,
   "id": "d929ca59",
   "metadata": {},
   "outputs": [
    {
     "data": {
      "text/plain": [
       "(493, 676)"
      ]
     },
     "execution_count": 193,
     "metadata": {},
     "output_type": "execute_result"
    }
   ],
   "source": [
    "np.shape(wave_first[1])"
   ]
  },
  {
   "cell_type": "code",
   "execution_count": 80,
   "id": "e26daa1b",
   "metadata": {},
   "outputs": [
    {
     "data": {
      "text/plain": [
       "<Image layer 'slice22' at 0x7fdc78b0e580>"
      ]
     },
     "execution_count": 80,
     "metadata": {},
     "output_type": "execute_result"
    }
   ],
   "source": [
    "#how to add numpy array to Napari\n",
    "v.add_image(arr_reshaped[22], name='slice22')"
   ]
  },
  {
   "cell_type": "code",
   "execution_count": 183,
   "id": "6f17caa0",
   "metadata": {},
   "outputs": [],
   "source": [
    "#croping and averaging for white balance\n",
    "\n",
    "#step 1 use \"Shapes\" in Napari to draw a bounding box around white balance target\n",
    "\n",
    "\n",
    "def Mean_White_Balance(image):\n",
    "    \n",
    "    box = v.layers['Shapes'].data \n",
    "    \n",
    "    #dim1 = np.shape(image)[0]\n",
    "    dim2 = np.shape(image[0][int(box[0][0][0]):int(box[0][2][0]), int(box[0][0][1]):int(box[0][2][1])])[0]\n",
    "    dim3 = np.shape(image[0][int(box[0][0][0]):int(box[0][2][0]), int(box[0][0][1]):int(box[0][2][1])])[1]\n",
    "    \n",
    "    wb = []#np.zeros((dim1,dim2,dim3))\n",
    "    \n",
    "    for i in range(np.shape(image)[0]):\n",
    "        wb.append(np.mean(image[i][int(box[0][0][0]):int(box[0][2][0]), int(box[0][0][1]):int(box[0][2][1])]))\n",
    "    \n",
    "    return(wb)\n",
    "\n",
    "\n",
    "#step 2 run \"Mean_White_Balance\" to return mean white balance as below:\n",
    "\n",
    "mean_white_balance = Mean_White_Balance(wave_first)\n",
    "\n",
    "\n",
    "    "
   ]
  },
  {
   "cell_type": "code",
   "execution_count": 204,
   "id": "330acbb4",
   "metadata": {},
   "outputs": [],
   "source": [
    "images2 = np.transpose(images, (0, 2, 1))/np.array(mean_white_balance)"
   ]
  },
  {
   "cell_type": "code",
   "execution_count": 205,
   "id": "6d71405f",
   "metadata": {},
   "outputs": [
    {
     "data": {
      "text/plain": [
       "(493, 676, 240)"
      ]
     },
     "execution_count": 205,
     "metadata": {},
     "output_type": "execute_result"
    }
   ],
   "source": [
    "np.shape(images2)"
   ]
  },
  {
   "cell_type": "code",
   "execution_count": 197,
   "id": "693adfc4",
   "metadata": {},
   "outputs": [
    {
     "data": {
      "text/plain": [
       "(240,)"
      ]
     },
     "execution_count": 197,
     "metadata": {},
     "output_type": "execute_result"
    }
   ],
   "source": [
    "np.shape(np.array(mean_white_balance))"
   ]
  },
  {
   "cell_type": "code",
   "execution_count": 93,
   "id": "13ea15c5",
   "metadata": {},
   "outputs": [
    {
     "data": {
      "text/plain": [
       "<Image layer 'slice22 cropped [1]' at 0x7fdca82b9a90>"
      ]
     },
     "execution_count": 93,
     "metadata": {},
     "output_type": "execute_result"
    }
   ],
   "source": [
    "v.add_image(cropped, name='slice22 cropped')"
   ]
  },
  {
   "cell_type": "code",
   "execution_count": 8,
   "id": "32dfaeb1",
   "metadata": {},
   "outputs": [
    {
     "name": "stderr",
     "output_type": "stream",
     "text": [
      "/Users/homelyp/opt/anaconda3/lib/python3.8/site-packages/napari/_qt/qt_event_loop.py:284: FutureWarning: \n",
      "The 'gui_qt()' context manager is deprecated.\n",
      "If you are running napari from a script, please use 'napari.run()' as follows:\n",
      "\n",
      "    import napari\n",
      "\n",
      "    viewer = napari.Viewer()  # no prior setup needed\n",
      "    # other code using the viewer...\n",
      "    napari.run()\n",
      "\n",
      "In IPython or Jupyter, 'napari.run()' is not necessary. napari will automatically\n",
      "start an interactive event loop for you: \n",
      "\n",
      "    import napari\n",
      "    viewer = napari.Viewer()  # that's it!\n",
      "\n",
      "  warn(\n",
      "WARNING: QObject::connect: Cannot queue arguments of type 'QVector<int>'\n",
      "(Make sure 'QVector<int>' is registered using qRegisterMetaType().)\n",
      "/Users/homelyp/opt/anaconda3/lib/python3.8/site-packages/napari/layers/base/base.py:1632: RuntimeWarning: invalid value encountered in cast\n",
      "  corners[:, displayed_axes] = data_bbox_clipped\n",
      "/Users/homelyp/opt/anaconda3/lib/python3.8/site-packages/napari/layers/base/base.py:1632: RuntimeWarning: invalid value encountered in cast\n",
      "  corners[:, displayed_axes] = data_bbox_clipped\n",
      "/Users/homelyp/opt/anaconda3/lib/python3.8/site-packages/napari/layers/base/base.py:1632: RuntimeWarning: invalid value encountered in cast\n",
      "  corners[:, displayed_axes] = data_bbox_clipped\n",
      "/Users/homelyp/opt/anaconda3/lib/python3.8/site-packages/napari/layers/base/base.py:1632: RuntimeWarning: invalid value encountered in cast\n",
      "  corners[:, displayed_axes] = data_bbox_clipped\n",
      "/Users/homelyp/opt/anaconda3/lib/python3.8/site-packages/napari/layers/base/base.py:1632: RuntimeWarning: invalid value encountered in cast\n",
      "  corners[:, displayed_axes] = data_bbox_clipped\n",
      "/Users/homelyp/opt/anaconda3/lib/python3.8/site-packages/napari/layers/base/base.py:1632: RuntimeWarning: invalid value encountered in cast\n",
      "  corners[:, displayed_axes] = data_bbox_clipped\n",
      "/Users/homelyp/opt/anaconda3/lib/python3.8/site-packages/napari/layers/base/base.py:1632: RuntimeWarning: invalid value encountered in cast\n",
      "  corners[:, displayed_axes] = data_bbox_clipped\n",
      "/Users/homelyp/opt/anaconda3/lib/python3.8/site-packages/napari/layers/base/base.py:1632: RuntimeWarning: invalid value encountered in cast\n",
      "  corners[:, displayed_axes] = data_bbox_clipped\n",
      "/Users/homelyp/opt/anaconda3/lib/python3.8/site-packages/napari/layers/base/base.py:1632: RuntimeWarning: invalid value encountered in cast\n",
      "  corners[:, displayed_axes] = data_bbox_clipped\n",
      "/Users/homelyp/opt/anaconda3/lib/python3.8/site-packages/napari/layers/base/base.py:1632: RuntimeWarning: invalid value encountered in cast\n",
      "  corners[:, displayed_axes] = data_bbox_clipped\n"
     ]
    }
   ],
   "source": [
    "scan = np.zeros((493,676,3))#initial blank image for display in Napari.\n",
    "#Spatial dimensionsis 676 (in this example). This should be a fixed value for the spectral camera. \n",
    "#493 is the number of images collected. 3 is the 3-channel RGB dimension\n",
    "\n",
    "@thread_worker\n",
    "def collect_scan(layer, interval=0.05):\n",
    "    \n",
    "    update_scan = np.zeros((493,676,3)) #numpy array where color data is added for display in Napari \n",
    "    \n",
    "    \n",
    "    for i in range(492): #for loop takes one through the entire scan range\n",
    "        \n",
    "        #images = camera.capture() #capture with Asi ZWO camera\n",
    "        \n",
    "        buffer=np.zeros((1,676,3)) #Buffer to hold sudo-color image for single scan line\n",
    "        \n",
    "        buffer[:,:,0] = images[i][120] #red\n",
    "        buffer[:,:,1] = images[i][90] #green\n",
    "        buffer[:,:,2] = images[i][60] #blue\n",
    "        \n",
    "        \n",
    "        \n",
    "        update_scan[i] = buffer #add sudo-color scan line to update array\n",
    "        \n",
    "        layer.data = update_scan #update layer in Napari so one can visualize scan\n",
    "        yield\n",
    "        time.sleep(interval)\n",
    "\n",
    "    \n",
    "\n",
    "with napari.gui_qt():\n",
    "    v = napari.Viewer()#(show=False)\n",
    "    #v.window._qt_window.setWindowState(Qt.WindowMaximized)\n",
    "    #v.show()\n",
    "\n",
    "    image_layer = v.add_image(scan)\n",
    "    worker = collect_scan(image_layer)\n",
    "    \n",
    "    #worker.start()\n",
    "\n",
    "    button = QPushButton(\"Start Scan\")\n",
    "    button.clicked.connect(worker.start)\n",
    "    v.window.add_dock_widget(widget=button, area='right')"
   ]
  },
  {
   "cell_type": "code",
   "execution_count": 83,
   "id": "c65ff818",
   "metadata": {},
   "outputs": [],
   "source": [
    "kop= v.layers['Shapes'].data"
   ]
  },
  {
   "cell_type": "code",
   "execution_count": 84,
   "id": "83a922ab",
   "metadata": {},
   "outputs": [
    {
     "name": "stdout",
     "output_type": "stream",
     "text": [
      "[array([[173.36105126, 194.96621719],\n",
      "       [367.92728803, 194.96621719],\n",
      "       [367.92728803, 390.97368535],\n",
      "       [173.36105126, 390.97368535]])]\n"
     ]
    }
   ],
   "source": [
    "print(kop)"
   ]
  },
  {
   "cell_type": "code",
   "execution_count": 91,
   "id": "bf352a18",
   "metadata": {},
   "outputs": [
    {
     "data": {
      "text/plain": [
       "367"
      ]
     },
     "execution_count": 91,
     "metadata": {},
     "output_type": "execute_result"
    }
   ],
   "source": [
    "int(kop[0][0][0])"
   ]
  },
  {
   "cell_type": "code",
   "execution_count": null,
   "id": "2ba222d2",
   "metadata": {},
   "outputs": [],
   "source": []
  }
 ],
 "metadata": {
  "@webio": {
   "lastCommId": null,
   "lastKernelId": null
  },
  "kernelspec": {
   "display_name": "Python 3",
   "language": "python",
   "name": "python3"
  },
  "language_info": {
   "codemirror_mode": {
    "name": "ipython",
    "version": 3
   },
   "file_extension": ".py",
   "mimetype": "text/x-python",
   "name": "python",
   "nbconvert_exporter": "python",
   "pygments_lexer": "ipython3",
   "version": "3.8.3"
  }
 },
 "nbformat": 4,
 "nbformat_minor": 5
}
